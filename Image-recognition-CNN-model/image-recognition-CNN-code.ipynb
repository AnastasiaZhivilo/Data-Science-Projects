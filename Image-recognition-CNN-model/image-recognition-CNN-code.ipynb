{
 "cells": [
  {
   "cell_type": "markdown",
   "id": "e76fba78",
   "metadata": {},
   "source": [
    "# Convolutional Neural Network model for Image recognition"
   ]
  },
  {
   "cell_type": "code",
   "execution_count": 2,
   "id": "40f0319c",
   "metadata": {},
   "outputs": [],
   "source": [
    "# pip install tensorflow"
   ]
  },
  {
   "cell_type": "code",
   "execution_count": 1,
   "id": "76572fc1",
   "metadata": {},
   "outputs": [],
   "source": [
    "# importing libraries\n",
    "\n",
    "import pandas as pd\n",
    "import numpy as np\n",
    "import sklearn\n",
    "import tensorflow as tf\n",
    "from tensorflow import keras\n",
    "from tensorflow.keras.callbacks import EarlyStopping\n",
    "import pickle\n",
    "import matplotlib.pyplot as plt\n",
    "from sklearn.model_selection import train_test_split\n",
    "from sklearn.metrics import precision_score, recall_score, accuracy_score, f1_score, confusion_matrix\n",
    "import seaborn as sns\n",
    "from sklearn.preprocessing import MinMaxScaler\n",
    "from sklearn.model_selection import RandomizedSearchCV\n",
    "from sklearn.model_selection import GridSearchCV\n",
    "import time"
   ]
  },
  {
   "cell_type": "code",
   "execution_count": 5,
   "id": "a7cfe488",
   "metadata": {},
   "outputs": [],
   "source": [
    "# Make output stable accross runs\n",
    "np.random.seed(42)\n",
    "tf.random.set_seed(42)\n",
    "keras.backend.clear_session()"
   ]
  },
  {
   "cell_type": "markdown",
   "id": "42c561d0",
   "metadata": {},
   "source": [
    "### Setting up the data for NCC Model"
   ]
  },
  {
   "cell_type": "code",
   "execution_count": 3,
   "id": "5070f3fc",
   "metadata": {},
   "outputs": [],
   "source": [
    "# import the train data\n",
    "with open('emnist_train.pkl', 'rb') as f:\n",
    "    train_set = pickle.load(f)"
   ]
  },
  {
   "cell_type": "code",
   "execution_count": 2,
   "id": "06cfc2f5",
   "metadata": {},
   "outputs": [],
   "source": [
    "# import the test data\n",
    "with open('emnist_test.pkl', 'rb') as f:\n",
    "    test_set = pickle.load(f)"
   ]
  },
  {
   "cell_type": "code",
   "execution_count": 4,
   "id": "8232688e",
   "metadata": {},
   "outputs": [],
   "source": [
    "# Rename the datasets\n",
    "\n",
    "X_train_full = train_set['data']\n",
    "y_train_full = train_set['labels']\n",
    "X_test = test_set['data']\n",
    "y_test = test_set['labels']"
   ]
  },
  {
   "cell_type": "code",
   "execution_count": 5,
   "id": "08dab4a3",
   "metadata": {},
   "outputs": [],
   "source": [
    "def plot_image(image):\n",
    "# Remove redundant extra dimension\n",
    "    if image.shape[-1] == 1:\n",
    "        image = image.squeeze(axis=-1)\n",
    "\n",
    "    plt.imshow(image, cmap=\"gray\", interpolation=\"nearest\")\n",
    "    plt.axis(\"off\")"
   ]
  },
  {
   "cell_type": "code",
   "execution_count": 6,
   "id": "21ca1f82",
   "metadata": {},
   "outputs": [],
   "source": [
    "def plot_examples(X, y, range_from, images_per_col):\n",
    "    plt.figure(figsize=(10,10))\n",
    "    for i in range(range_from,range_from+images_per_col*2):\n",
    "        plt.subplot(images_per_col,images_per_col,i+1)\n",
    "        plt.xticks([])\n",
    "        plt.yticks([])\n",
    "        plt.grid(False)\n",
    "        plt.imshow(X[i], cmap= 'gray')\n",
    "        plt.xlabel(y[i])"
   ]
  },
  {
   "cell_type": "code",
   "execution_count": 7,
   "id": "97f15dd5",
   "metadata": {},
   "outputs": [
    {
     "data": {
      "image/png": "[encoded data removed]",
      "text/plain": [
       "<Figure size 1000x1000 with 10 Axes>"
      ]
     },
     "metadata": {},
     "output_type": "display_data"
    }
   ],
   "source": [
    "# Plotting examples\n",
    "plot_examples(X_train_full, y_train_full, 10, 5)"
   ]
  },
  {
   "cell_type": "code",
   "execution_count": 8,
   "id": "e74c97aa",
   "metadata": {},
   "outputs": [],
   "source": [
    "# Set up up validation sets from 10% of the train set\n",
    "\n",
    "X_train, X_valid, y_train, y_valid = train_test_split(X_train_full, y_train_full, train_size=0.9, stratify = y_train_full)"
   ]
  },
  {
   "cell_type": "code",
   "execution_count": 9,
   "id": "12a588aa",
   "metadata": {},
   "outputs": [
    {
     "name": "stdout",
     "output_type": "stream",
     "text": [
      "Shape of X_train: (90000, 32, 32)\n"
     ]
    }
   ],
   "source": [
    "# LeNet model receives 32 x 32. The dataset is padded with zeros and pixels are scaled between 0 and 1:\n",
    "\n",
    "X_train = tf.pad(X_train, [[0, 0], [2,2], [2,2]])/255\n",
    "X_valid = tf.pad(X_valid, [[0, 0], [2,2], [2,2]])/255\n",
    "X_test = tf.pad(X_test, [[0, 0], [2,2], [2,2]])/255\n",
    "print(f\"Shape of X_train: {X_train.shape}\")"
   ]
  },
  {
   "cell_type": "code",
   "execution_count": 10,
   "id": "c2aabc3e",
   "metadata": {},
   "outputs": [
    {
     "name": "stdout",
     "output_type": "stream",
     "text": [
      "New shape of X_train: (90000, 32, 32, 1)\n"
     ]
    }
   ],
   "source": [
    "# Add an extra dimension to our data\n",
    "\n",
    "X_train = np.expand_dims(X_train, -1)\n",
    "X_valid = np.expand_dims(X_valid, -1)\n",
    "X_test = np.expand_dims(X_test, -1)\n",
    "print(f\"New shape of X_train: {X_train.shape}\")"
   ]
  },
  {
   "cell_type": "markdown",
   "id": "3875cd6a",
   "metadata": {},
   "source": [
    "## Defining the model"
   ]
  },
  {
   "cell_type": "code",
   "execution_count": 11,
   "id": "260c6818",
   "metadata": {},
   "outputs": [],
   "source": [
    "# Setting up the initial model\n",
    "\n",
    "model = keras.Sequential([\n",
    "\n",
    "# Specify the input shape\n",
    "keras.Input(shape=(32, 32, 1)),\n",
    "\n",
    "# Conv and pool block 1\n",
    "keras.layers.Conv2D(6, kernel_size=(5, 5), activation=\"tanh\"),\n",
    "keras.layers.AveragePooling2D(pool_size=(2, 2),strides = 2),\n",
    "\n",
    "# Conv and pool block 2\n",
    "keras.layers.Conv2D(16, kernel_size=(5, 5), activation=\"tanh\"),\n",
    "keras.layers.AveragePooling2D(pool_size=(2, 2),strides = 2),\n",
    "\n",
    "# Fully Connected Convolution Layer\n",
    "keras.layers.Dense(120, activation=\"tanh\"),\n",
    "\n",
    "# Flatten and classify using dense output layer\n",
    "keras.layers.Flatten(),\n",
    "keras.layers.Dense(84, activation=\"tanh\"),\n",
    "keras.layers.Dense(62, activation= \"softmax\"),\n",
    "])"
   ]
  },
  {
   "cell_type": "code",
   "execution_count": 12,
   "id": "ca70b6f4",
   "metadata": {},
   "outputs": [
    {
     "name": "stdout",
     "output_type": "stream",
     "text": [
      "Model: \"sequential\"\n",
      "_________________________________________________________________\n",
      " Layer (type)                Output Shape              Param #   \n",
      "=================================================================\n",
      " conv2d (Conv2D)             (None, 28, 28, 6)         156       \n",
      "                                                                 \n",
      " average_pooling2d (Average  (None, 14, 14, 6)         0         \n",
      " Pooling2D)                                                      \n",
      "                                                                 \n",
      " conv2d_1 (Conv2D)           (None, 10, 10, 16)        2416      \n",
      "                                                                 \n",
      " average_pooling2d_1 (Avera  (None, 5, 5, 16)          0         \n",
      " gePooling2D)                                                    \n",
      "                                                                 \n",
      " dense (Dense)               (None, 5, 5, 120)         2040      \n",
      "                                                                 \n",
      " flatten (Flatten)           (None, 3000)              0         \n",
      "                                                                 \n",
      " dense_1 (Dense)             (None, 84)                252084    \n",
      "                                                                 \n",
      " dense_2 (Dense)             (None, 62)                5270      \n",
      "                                                                 \n",
      "=================================================================\n",
      "Total params: 261966 (1023.30 KB)\n",
      "Trainable params: 261966 (1023.30 KB)\n",
      "Non-trainable params: 0 (0.00 Byte)\n",
      "_________________________________________________________________\n"
     ]
    }
   ],
   "source": [
    "model.summary()"
   ]
  },
  {
   "cell_type": "code",
   "execution_count": 13,
   "id": "3a2d0231",
   "metadata": {},
   "outputs": [],
   "source": [
    "# Compile model with loss, optimiser, and metrics\n",
    "model.compile(loss='sparse_categorical_crossentropy',\n",
    "              optimizer=\"adam\",\n",
    "              metrics=['accuracy'])"
   ]
  },
  {
   "cell_type": "code",
   "execution_count": 14,
   "id": "0d403c6c",
   "metadata": {},
   "outputs": [],
   "source": [
    "batch_size = 128\n",
    "epochs = 10"
   ]
  },
  {
   "cell_type": "code",
   "execution_count": 15,
   "id": "f73bc344",
   "metadata": {},
   "outputs": [
    {
     "name": "stdout",
     "output_type": "stream",
     "text": [
      "Epoch 1/10\n",
      "704/704 [==============================] - 10s 13ms/step - loss: 1.2395 - accuracy: 0.6673 - val_loss: 0.8399 - val_accuracy: 0.7497\n",
      "Epoch 2/10\n",
      "704/704 [==============================] - 10s 14ms/step - loss: 0.6951 - accuracy: 0.7848 - val_loss: 0.6066 - val_accuracy: 0.8059\n",
      "Epoch 3/10\n",
      "704/704 [==============================] - 10s 15ms/step - loss: 0.5565 - accuracy: 0.8163 - val_loss: 0.5348 - val_accuracy: 0.8216\n",
      "Epoch 4/10\n",
      "704/704 [==============================] - 10s 15ms/step - loss: 0.5008 - accuracy: 0.8308 - val_loss: 0.5102 - val_accuracy: 0.8284\n",
      "Epoch 5/10\n",
      "704/704 [==============================] - 11s 15ms/step - loss: 0.4664 - accuracy: 0.8390 - val_loss: 0.4860 - val_accuracy: 0.8338\n",
      "Epoch 6/10\n",
      "704/704 [==============================] - 11s 16ms/step - loss: 0.4434 - accuracy: 0.8439 - val_loss: 0.4830 - val_accuracy: 0.8313\n",
      "Epoch 7/10\n",
      "704/704 [==============================] - 11s 15ms/step - loss: 0.4245 - accuracy: 0.8497 - val_loss: 0.4757 - val_accuracy: 0.8339\n",
      "Epoch 8/10\n",
      "704/704 [==============================] - 11s 15ms/step - loss: 0.4103 - accuracy: 0.8531 - val_loss: 0.4715 - val_accuracy: 0.8368\n",
      "Epoch 9/10\n",
      "704/704 [==============================] - 10s 14ms/step - loss: 0.3972 - accuracy: 0.8572 - val_loss: 0.4671 - val_accuracy: 0.8347\n",
      "Epoch 10/10\n",
      "704/704 [==============================] - 10s 14ms/step - loss: 0.3867 - accuracy: 0.8597 - val_loss: 0.4760 - val_accuracy: 0.8325\n"
     ]
    }
   ],
   "source": [
    "history = model.fit(X_train, y_train, batch_size=batch_size, epochs=epochs, validation_data=(X_valid, y_valid))"
   ]
  },
  {
   "cell_type": "code",
   "execution_count": 16,
   "id": "a98c89a0",
   "metadata": {},
   "outputs": [
    {
     "name": "stdout",
     "output_type": "stream",
     "text": [
      "625/625 [==============================] - 2s 3ms/step - loss: 0.4852 - accuracy: 0.8349\n",
      "Accuracy on test data: 0.8349\n",
      "Loss on test data: 0.4852\n"
     ]
    }
   ],
   "source": [
    " # Evaluate the classifier on the test data.\n",
    "loss, accuracy = model.evaluate(X_test, y_test)\n",
    "print(f\"Accuracy on test data: {accuracy:.4f}\")\n",
    "print(f\"Loss on test data: {loss:.4f}\")\n"
   ]
  },
  {
   "cell_type": "code",
   "execution_count": 17,
   "id": "84a29783",
   "metadata": {},
   "outputs": [
    {
     "data": {
      "image/png": "[encoded data removed]",
      "text/plain": [
       "<Figure size 800x500 with 1 Axes>"
      ]
     },
     "metadata": {},
     "output_type": "display_data"
    }
   ],
   "source": [
    "pd.DataFrame(history.history).plot(figsize=(8,5))\n",
    "plt.xlabel('Epochs')\n",
    "plt.ylabel('Accuracy and Loss Value')\n",
    "plt.title('Accuracy and Loss Graph')\n",
    "plt.show()"
   ]
  },
  {
   "cell_type": "markdown",
   "id": "c0ebf8ac",
   "metadata": {},
   "source": [
    "## Tuning the Model"
   ]
  },
  {
   "cell_type": "code",
   "execution_count": 19,
   "id": "fc70501d",
   "metadata": {},
   "outputs": [],
   "source": [
    "# Model experimentation\n",
    "\n",
    "# Tried changing AveragePooling to MaxPooling\n",
    "# Tried adding a dropout layer\n",
    "# Tried changing activation from tanh to ReLu\n",
    "\n",
    "\n",
    "model2 = keras.Sequential([\n",
    "\n",
    "# Specify the input shape\n",
    "keras.Input(shape=(32, 32, 1)),\n",
    "\n",
    "# Conv and pool block 1\n",
    "keras.layers.Conv2D(6, kernel_size=(5, 5), activation=\"tanh\"),\n",
    "keras.layers.AveragePooling2D(pool_size=(2, 2),strides = 2),\n",
    "# keras.layers.MaxPooling2D(pool_size=(2, 2),strides = 2),\n",
    "    \n",
    "# Conv and pool block 2\n",
    "keras.layers.Conv2D(16, kernel_size=(5, 5), activation=\"tanh\"),\n",
    "keras.layers.AveragePooling2D(pool_size=(2, 2),strides = 2),\n",
    "# keras.layers.MaxPooling2D(pool_size=(2, 2),strides = 2),\n",
    "    \n",
    "# Fully Connected Convolution Layer\n",
    "keras.layers.Dense(120, activation=\"tanh\"),\n",
    "\n",
    "# Flatten and classify using dense output layer\n",
    "keras.layers.Flatten(),\n",
    "# keras.layers.Dropout(0.2),\n",
    "keras.layers.Dense(84, activation=\"tanh\"),\n",
    "keras.layers.Dense(62, activation= \"softmax\"),\n",
    "])"
   ]
  },
  {
   "cell_type": "code",
   "execution_count": 20,
   "id": "e924aac9",
   "metadata": {},
   "outputs": [
    {
     "name": "stdout",
     "output_type": "stream",
     "text": [
      "Model: \"sequential_1\"\n",
      "_________________________________________________________________\n",
      " Layer (type)                Output Shape              Param #   \n",
      "=================================================================\n",
      " conv2d_2 (Conv2D)           (None, 28, 28, 6)         156       \n",
      "                                                                 \n",
      " average_pooling2d_2 (Avera  (None, 14, 14, 6)         0         \n",
      " gePooling2D)                                                    \n",
      "                                                                 \n",
      " conv2d_3 (Conv2D)           (None, 10, 10, 16)        2416      \n",
      "                                                                 \n",
      " average_pooling2d_3 (Avera  (None, 5, 5, 16)          0         \n",
      " gePooling2D)                                                    \n",
      "                                                                 \n",
      " dense_3 (Dense)             (None, 5, 5, 120)         2040      \n",
      "                                                                 \n",
      " flatten_1 (Flatten)         (None, 3000)              0         \n",
      "                                                                 \n",
      " dense_4 (Dense)             (None, 84)                252084    \n",
      "                                                                 \n",
      " dense_5 (Dense)             (None, 62)                5270      \n",
      "                                                                 \n",
      "=================================================================\n",
      "Total params: 261966 (1023.30 KB)\n",
      "Trainable params: 261966 (1023.30 KB)\n",
      "Non-trainable params: 0 (0.00 Byte)\n",
      "_________________________________________________________________\n"
     ]
    }
   ],
   "source": [
    "model2.summary()"
   ]
  },
  {
   "cell_type": "code",
   "execution_count": 21,
   "id": "ea36a070",
   "metadata": {},
   "outputs": [],
   "source": [
    "# Compile model with loss, optimiser, and metrics\n",
    "model2.compile(loss='sparse_categorical_crossentropy',\n",
    "              optimizer=\"adam\",\n",
    "              metrics=['accuracy'])"
   ]
  },
  {
   "cell_type": "code",
   "execution_count": 22,
   "id": "0223971c",
   "metadata": {},
   "outputs": [],
   "source": [
    "batch_size = 1024\n",
    "epochs = 1000"
   ]
  },
  {
   "cell_type": "code",
   "execution_count": 23,
   "id": "d3e8f9e8",
   "metadata": {},
   "outputs": [],
   "source": [
    "es = EarlyStopping(monitor='val_loss', mode='min', verbose=1)"
   ]
  },
  {
   "cell_type": "code",
   "execution_count": 24,
   "id": "0cd59b9f",
   "metadata": {},
   "outputs": [
    {
     "name": "stdout",
     "output_type": "stream",
     "text": [
      "Epoch 1/1000\n",
      "88/88 [==============================] - 7s 75ms/step - loss: 2.1283 - accuracy: 0.4992 - val_loss: 1.3529 - val_accuracy: 0.6449\n",
      "Epoch 2/1000\n",
      "88/88 [==============================] - 6s 73ms/step - loss: 1.1817 - accuracy: 0.6829 - val_loss: 1.0386 - val_accuracy: 0.7076\n",
      "Epoch 3/1000\n",
      "88/88 [==============================] - 7s 75ms/step - loss: 0.9572 - accuracy: 0.7286 - val_loss: 0.8760 - val_accuracy: 0.7434\n",
      "Epoch 4/1000\n",
      "88/88 [==============================] - 7s 75ms/step - loss: 0.8057 - accuracy: 0.7615 - val_loss: 0.7554 - val_accuracy: 0.7673\n",
      "Epoch 5/1000\n",
      "88/88 [==============================] - 6s 73ms/step - loss: 0.7005 - accuracy: 0.7856 - val_loss: 0.6782 - val_accuracy: 0.7804\n",
      "Epoch 6/1000\n",
      "88/88 [==============================] - 6s 72ms/step - loss: 0.6296 - accuracy: 0.8019 - val_loss: 0.6196 - val_accuracy: 0.7987\n",
      "Epoch 7/1000\n",
      "88/88 [==============================] - 7s 74ms/step - loss: 0.5813 - accuracy: 0.8125 - val_loss: 0.5842 - val_accuracy: 0.8088\n",
      "Epoch 8/1000\n",
      "88/88 [==============================] - 6s 73ms/step - loss: 0.5435 - accuracy: 0.8219 - val_loss: 0.5491 - val_accuracy: 0.8148\n",
      "Epoch 9/1000\n",
      "88/88 [==============================] - 6s 73ms/step - loss: 0.5155 - accuracy: 0.8293 - val_loss: 0.5346 - val_accuracy: 0.8187\n",
      "Epoch 10/1000\n",
      "88/88 [==============================] - 7s 76ms/step - loss: 0.4943 - accuracy: 0.8347 - val_loss: 0.5180 - val_accuracy: 0.8260\n",
      "Epoch 11/1000\n",
      "88/88 [==============================] - 7s 76ms/step - loss: 0.4756 - accuracy: 0.8386 - val_loss: 0.5011 - val_accuracy: 0.8293\n",
      "Epoch 12/1000\n",
      "88/88 [==============================] - 7s 78ms/step - loss: 0.4630 - accuracy: 0.8420 - val_loss: 0.4925 - val_accuracy: 0.8322\n",
      "Epoch 13/1000\n",
      "88/88 [==============================] - 7s 75ms/step - loss: 0.4496 - accuracy: 0.8441 - val_loss: 0.4918 - val_accuracy: 0.8290\n",
      "Epoch 14/1000\n",
      "88/88 [==============================] - 7s 75ms/step - loss: 0.4376 - accuracy: 0.8483 - val_loss: 0.4824 - val_accuracy: 0.8343\n",
      "Epoch 15/1000\n",
      "88/88 [==============================] - 7s 78ms/step - loss: 0.4294 - accuracy: 0.8511 - val_loss: 0.4768 - val_accuracy: 0.8344\n",
      "Epoch 16/1000\n",
      "88/88 [==============================] - 7s 75ms/step - loss: 0.4181 - accuracy: 0.8540 - val_loss: 0.4685 - val_accuracy: 0.8356\n",
      "Epoch 17/1000\n",
      "88/88 [==============================] - 7s 74ms/step - loss: 0.4104 - accuracy: 0.8559 - val_loss: 0.4707 - val_accuracy: 0.8343\n",
      "Epoch 17: early stopping\n"
     ]
    }
   ],
   "source": [
    "history2 = model2.fit(X_train, \n",
    "                    y_train, \n",
    "                    batch_size=batch_size, \n",
    "                    epochs=epochs, \n",
    "                    callbacks=[es],\n",
    "                    verbose = 1,\n",
    "                    validation_data=(X_valid, y_valid))"
   ]
  },
  {
   "cell_type": "code",
   "execution_count": 25,
   "id": "3ba2a44f",
   "metadata": {},
   "outputs": [
    {
     "data": {
      "image/png": "[encoded data removed]",
      "text/plain": [
       "<Figure size 800x500 with 1 Axes>"
      ]
     },
     "metadata": {},
     "output_type": "display_data"
    }
   ],
   "source": [
    "pd.DataFrame(history2.history).plot(figsize=(8,5))\n",
    "plt.xlabel('Epochs')\n",
    "plt.ylabel('Accuracy and Loss Value')\n",
    "plt.title('Accuracy and Loss Graph')\n",
    "plt.show()"
   ]
  },
  {
   "cell_type": "code",
   "execution_count": 26,
   "id": "aad22954",
   "metadata": {},
   "outputs": [
    {
     "name": "stdout",
     "output_type": "stream",
     "text": [
      "625/625 [==============================] - 2s 3ms/step - loss: 0.4779 - accuracy: 0.8373\n",
      "Accuracy on test data: 0.8373\n",
      "Loss on test data: 0.4779\n"
     ]
    }
   ],
   "source": [
    " # Evaluate the classifier on the test data.\n",
    "loss, accuracy = model2.evaluate(X_test, y_test)\n",
    "print(f\"Accuracy on test data: {accuracy:.4f}\")\n",
    "print(f\"Loss on test data: {loss:.4f}\")"
   ]
  },
  {
   "cell_type": "code",
   "execution_count": 34,
   "id": "56c69c1e",
   "metadata": {},
   "outputs": [
    {
     "name": "stdout",
     "output_type": "stream",
     "text": [
      "625/625 [==============================] - 2s 3ms/step\n",
      "Precision: 0.7381 \n",
      "Recall: 0.6862 \n",
      "f1_score: 0.6934\n"
     ]
    }
   ],
   "source": [
    "# Calculate Precision, Recall, F1 scores and show confusion matrix\n",
    "\n",
    "# Calculate predicted values\n",
    "\n",
    "y_probs = model2.predict(X_test)\n",
    "y_pred = np.argmax(y_probs, axis = -1)\n",
    "\n",
    "# Calculate Precision score, recall, f1 and set up confusion matrix\n",
    "\n",
    "prec = precision_score(y_test, y_pred, average = 'macro', zero_division = 0.0)\n",
    "recall = recall_score(y_test, y_pred, average = 'macro')\n",
    "f1 = f1_score(y_test, y_pred, average = 'macro')\n",
    "\n",
    "print (f\"Precision: {prec:.4f} \\nRecall: {recall:.4f} \\nf1_score: {f1:.4f}\")"
   ]
  },
  {
   "cell_type": "markdown",
   "id": "fe7929a6",
   "metadata": {},
   "source": [
    "## Looking at where the predictions were wrong"
   ]
  },
  {
   "cell_type": "code",
   "execution_count": 35,
   "id": "a468740f",
   "metadata": {},
   "outputs": [
    {
     "name": "stdout",
     "output_type": "stream",
     "text": [
      "1/1 [==============================] - 0s 14ms/step\n",
      "Model's predicted value and Actual test value: ([1], 1, 1)\n",
      "1/1 [==============================] - 0s 16ms/step\n",
      "Model's predicted value and Actual test value: ([2], 2, 2)\n",
      "1/1 [==============================] - 0s 14ms/step\n",
      "Model's predicted value and Actual test value: ([3], 9, 9)\n",
      "1/1 [==============================] - 0s 14ms/step\n",
      "Model's predicted value and Actual test value: ([4], 37, 37)\n",
      "1/1 [==============================] - 0s 14ms/step\n",
      "Model's predicted value and Actual test value: ([5], 3, 3)\n",
      "1/1 [==============================] - 0s 13ms/step\n",
      "Model's predicted value and Actual test value: ([6], 0, 0)\n",
      "1/1 [==============================] - 0s 14ms/step\n",
      "Model's predicted value and Actual test value: ([7], 30, 30)\n",
      "1/1 [==============================] - 0s 13ms/step\n",
      "Model's predicted value and Actual test value: ([8], 1, 47)\n",
      "1/1 [==============================] - 0s 14ms/step\n",
      "Model's predicted value and Actual test value: ([9], 0, 0)\n"
     ]
    }
   ],
   "source": [
    "\n",
    "# Looking through a sample of predicted values vs actual values to find which records are different\n",
    "\n",
    "pred={}\n",
    "for i in range(1,10):\n",
    "    pred[i] = model2.predict(X_test[i].reshape(1, 32, 32, 1 ))\n",
    "    print(f\"Model's predicted value and Actual test value: {[i],pred[i].argmax(), y_test[i]}\")"
   ]
  },
  {
   "cell_type": "code",
   "execution_count": 36,
   "id": "7bf7a5ca",
   "metadata": {},
   "outputs": [],
   "source": [
    "# Showing all records where the y is equal to a specific value\n",
    "\n",
    "def check_values(special_value, dataset):\n",
    "    special_value_results = []\n",
    "    for i in dataset:\n",
    "        if dataset[i] == special_value:\n",
    "            special_value_results.append(i)\n",
    "    special_value_results = np.unique(special_value_results)\n",
    "    print(special_value_results)"
   ]
  },
  {
   "cell_type": "code",
   "execution_count": 46,
   "id": "b76a4de9",
   "metadata": {},
   "outputs": [
    {
     "name": "stdout",
     "output_type": "stream",
     "text": [
      "[16 17 43]\n"
     ]
    }
   ],
   "source": [
    "check_values(1, y_train)"
   ]
  },
  {
   "cell_type": "code",
   "execution_count": 47,
   "id": "4e1354f4",
   "metadata": {},
   "outputs": [
    {
     "data": {
      "image/png": "[encoded data removed]",
      "text/plain": [
       "<Figure size 640x480 with 1 Axes>"
      ]
     },
     "metadata": {},
     "output_type": "display_data"
    }
   ],
   "source": [
    "plot_image(X_train[16])"
   ]
  }
 ],
 "metadata": {
  "kernelspec": {
   "display_name": "Python 3 (ipykernel)",
   "language": "python",
   "name": "python3"
  },
  "language_info": {
   "codemirror_mode": {
    "name": "ipython",
    "version": 3
   },
   "file_extension": ".py",
   "mimetype": "text/x-python",
   "name": "python",
   "nbconvert_exporter": "python",
   "pygments_lexer": "ipython3",
   "version": "3.11.4"
  }
 },
 "nbformat": 4,
 "nbformat_minor": 5
}
